{
  "nbformat": 4,
  "nbformat_minor": 0,
  "metadata": {
    "colab": {
      "provenance": [],
      "authorship_tag": "ABX9TyN2sh9Mg7azynWXogK1GZym",
      "include_colab_link": true
    },
    "kernelspec": {
      "name": "python3",
      "display_name": "Python 3"
    },
    "language_info": {
      "name": "python"
    }
  },
  "cells": [
    {
      "cell_type": "markdown",
      "metadata": {
        "id": "view-in-github",
        "colab_type": "text"
      },
      "source": [
        "<a href=\"https://colab.research.google.com/github/ColdmaterL/Respostas_Target/blob/main/Teste.ipynb\" target=\"_parent\"><img src=\"https://colab.research.google.com/assets/colab-badge.svg\" alt=\"Open In Colab\"/></a>"
      ]
    },
    {
      "cell_type": "markdown",
      "source": [
        "# Questão 2"
      ],
      "metadata": {
        "id": "Qx0nO22dM3Sn"
      }
    },
    {
      "cell_type": "code",
      "execution_count": 38,
      "metadata": {
        "colab": {
          "base_uri": "https://localhost:8080/"
        },
        "id": "4vgZfRV2KoZQ",
        "outputId": "af2b06f5-0d80-4e15-d08d-8b3838376c55"
      },
      "outputs": [
        {
          "output_type": "stream",
          "name": "stdout",
          "text": [
            "1556\n",
            "no\n"
          ]
        }
      ],
      "source": [
        "def fib(num):\n",
        "  if num == 0:\n",
        "    return 1\n",
        "  else:\n",
        "    fib = [0, 1]\n",
        "    i = 0\n",
        "    while fib[i+1] < num:\n",
        "      numbtoappend = fib[i] + fib[i+1]\n",
        "      fib.append(numbtoappend)\n",
        "      i = i + 1\n",
        "    if num == fib[i+1]:\n",
        "      return 1\n",
        "    else:\n",
        "      return 0\n",
        "\n",
        "numbtoverify = int(input())\n",
        "if(fib(numbtoverify)):\n",
        "  print('yes')\n",
        "else:\n",
        "  print('no')"
      ]
    },
    {
      "cell_type": "markdown",
      "source": [
        "# Questão 3"
      ],
      "metadata": {
        "id": "T-2fM-YgM7FR"
      }
    },
    {
      "cell_type": "code",
      "source": [
        "import json\n",
        "def analyze_json(arqname):\n",
        "  arq = open(arqname, 'r')\n",
        "  dados = json.load(arq)\n",
        "  k = 0 # Get the first min and max value to not be zero\n",
        "  mean = 0\n",
        "  numDaysValid = 0\n",
        "  for i in range(len(dados)):\n",
        "    if dados[i]['valor'] != 0:\n",
        "      if k == 0:\n",
        "        k+= 1\n",
        "        max = dados[i]['valor']\n",
        "        min = dados[i]['valor']\n",
        "\n",
        "      numDaysValid += 1\n",
        "      mean += dados[i]['valor']\n",
        "      \n",
        "      if dados[i]['valor'] > max:\n",
        "        max = dados[i]['valor']\n",
        "      elif dados[i]['valor'] < min:\n",
        "        min = dados[i]['valor']\n",
        "  \n",
        "  mean = mean / numDaysValid\n",
        "  \n",
        "  bestThanMean = 0\n",
        "  for i in range(len(dados)):\n",
        "    if dados[i]['valor'] > mean:\n",
        "      bestThanMean += 1\n",
        "  \n",
        "  print('max: ', max)\n",
        "  print('min: ', min)\n",
        "  print('med', mean)\n",
        "  print('days better than average for the month:', bestThanMean)\n",
        "\n",
        "analyze_json('dados.json')"
      ],
      "metadata": {
        "colab": {
          "base_uri": "https://localhost:8080/"
        },
        "id": "TVDeZ1_IOlh-",
        "outputId": "4b461274-3f06-4bd4-ec6f-3c788afba17e"
      },
      "execution_count": 39,
      "outputs": [
        {
          "output_type": "stream",
          "name": "stdout",
          "text": [
            "max:  48924.2448\n",
            "min:  373.7838\n",
            "med 20865.370166666664\n",
            "days better than average for the month: 10\n"
          ]
        }
      ]
    },
    {
      "cell_type": "markdown",
      "source": [
        "# Questão 4"
      ],
      "metadata": {
        "id": "VXpZsn-vUQy1"
      }
    },
    {
      "cell_type": "code",
      "source": [
        "import json\n",
        "\n",
        "def percentage(totalNumb, parcialNumb):\n",
        "  return (parcialNumb * 100)/totalNumb\n",
        "\n",
        "statesInvoicing = {\n",
        "    'SP' : '67836.43',\n",
        "    'RJ' : '36678.66',\n",
        "    'MG' : '29229.88',\n",
        "    'ES' : '27165.48',\n",
        "    'Outros' : '19849.53'\n",
        "}\n",
        "\n",
        "TotalInvoice = 0\n",
        "for states in statesInvoicing.values():\n",
        "  TotalInvoice += float(states)\n",
        "\n",
        "print('SP =', percentage(TotalInvoice, float(statesInvoicing['SP'])), '%')\n",
        "print('RJ =', percentage(TotalInvoice, float(statesInvoicing['RJ'])), '%')\n",
        "print('MG =', percentage(TotalInvoice, float(statesInvoicing['MG'])), '%')\n",
        "print('ES =', percentage(TotalInvoice, float(statesInvoicing['ES'])), '%')\n",
        "print('Outros =', percentage(TotalInvoice, float(statesInvoicing['Outros'])), '%')"
      ],
      "metadata": {
        "colab": {
          "base_uri": "https://localhost:8080/"
        },
        "id": "2ARsx77CUSVj",
        "outputId": "a5950d05-82e5-4fcc-f035-62033fe0066f"
      },
      "execution_count": 57,
      "outputs": [
        {
          "output_type": "stream",
          "name": "stdout",
          "text": [
            "SP = 37.52845624346716 %\n",
            "RJ = 20.291360952794975 %\n",
            "MG = 16.170548370275323 %\n",
            "ES = 15.028481414968068 %\n",
            "Outros = 10.981153018494469 %\n"
          ]
        }
      ]
    },
    {
      "cell_type": "markdown",
      "source": [
        "# Questão 5"
      ],
      "metadata": {
        "id": "P3MhRFbGYpRQ"
      }
    },
    {
      "cell_type": "code",
      "source": [
        "def word_reverser(word):\n",
        "  reverse_list = []\n",
        "  for i in range(len(word)):\n",
        "    reverse_list.append(word[len(word) - i - 1])\n",
        "\n",
        "  reverse_word = ''.join(reverse_list)\n",
        "  print(reverse_word)\n",
        "\n",
        "word_reverser('casa')"
      ],
      "metadata": {
        "colab": {
          "base_uri": "https://localhost:8080/"
        },
        "id": "F92E78HYYrzF",
        "outputId": "0c862d4f-ba05-4551-91cd-1c10d1b6cd7a"
      },
      "execution_count": 75,
      "outputs": [
        {
          "output_type": "stream",
          "name": "stdout",
          "text": [
            "asac\n"
          ]
        }
      ]
    }
  ]
}